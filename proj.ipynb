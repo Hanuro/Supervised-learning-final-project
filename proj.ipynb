{
 "cells": [
  {
   "attachments": {},
   "cell_type": "markdown",
   "metadata": {},
   "source": [
    "# Final Project\n",
    "## Supervised Learning - AY 2022-2023\n",
    "The goal of this project is to analyze a dataset representing the characteristics of some\n",
    "Gormiti creatures. We want to build a model that can classify the land which a Gormiti\n",
    "belongs to (Rockland, Iceland, Fireland, Windland).\n",
    "\n"
   ]
  },
  {
   "attachments": {},
   "cell_type": "markdown",
   "metadata": {},
   "source": [
    "The provided dataset includes the following information:\n",
    "• ID: unique identifier of a Gormiti creature.\n",
    "• Gormiti_Type: type of the Gormiti creature.\n",
    "• Nature: nature of the Gormiti creature.\n",
    "• Deadly: boolean representing if the Gormiti creature is very dangerous.\n",
    "• Growth_rate: growth rate of the Gormiti creature.\n",
    "• Strength: strength of the Gormiti creature.\n",
    "• Ray: type of ray that gave the Gormiti creature its superpowers.\n",
    "• Ability: specific ability of the Gormiti creature.\n",
    "• Attack: boolean representing if the Gormini creature attacks of not.\n",
    "• Against_Fire: average score of the Gormiti creature on battles against Gormitis of type Fire.\n",
    "• Against_Meka: average score of the Gormiti creature on battles against Gormitis of type Meka.\n",
    "• Against_Lava: average score of the Gormiti creature on battles against Gormitis of type Lava.\n",
    "• Against_Wind: average score of the Gormiti creature on battles against Gormitis of type Wind.\n",
    "• Against_Rock: average score of the Gormiti creature on battles against Gormitis of type Rock.\n",
    "• Gormiti_Land: the land the Gormiti creature belongs to (target feature).\n",
    "In order to build the desired predictive model, develop the following tasks and answer\n",
    "the following questions."
   ]
  },
  {
   "attachments": {},
   "cell_type": "markdown",
   "metadata": {},
   "source": [
    "# Questions and Tasks\n"
   ]
  },
  {
   "attachments": {},
   "cell_type": "markdown",
   "metadata": {},
   "source": [
    "## 1. Load and explore the dataset. Eventually perform data engineering (handling missing values, encoding categorical values, ...).\n"
   ]
  },
  {
   "attachments": {},
   "cell_type": "markdown",
   "metadata": {},
   "source": [
    "## 2. Train a Softmax Regression model able to predict the Gormiti_Land class.\n"
   ]
  },
  {
   "attachments": {},
   "cell_type": "markdown",
   "metadata": {},
   "source": [
    "#### (a) Perform features pre-processing if necessary. Discuss your choices and the performed actions.\n"
   ]
  },
  {
   "attachments": {},
   "cell_type": "markdown",
   "metadata": {},
   "source": [
    "#### (b) Train a regularized model by applying ℓ2 regularization (default regularization when you perform multinominal LogisticRegression on sklearn): tune the hyperparameter C (eventually with grid search) in order to optimize the generalization performances of the model. What happens if you increase the value of C?\n"
   ]
  },
  {
   "attachments": {},
   "cell_type": "markdown",
   "metadata": {},
   "source": [
    "#### (c) Evaluate the trained model on the provided test set. Verify that the trained model is not overfitting. Discuss the obtained results.\n"
   ]
  },
  {
   "attachments": {},
   "cell_type": "markdown",
   "metadata": {},
   "source": [
    "## 3. Train a DecisionTree model able to predict the Gormiti_Land class.\n"
   ]
  },
  {
   "attachments": {},
   "cell_type": "markdown",
   "metadata": {},
   "source": [
    "#### (a) Perform features pre-processing if necessary. Discuss your choices and the performed actions.\n"
   ]
  },
  {
   "attachments": {},
   "cell_type": "markdown",
   "metadata": {},
   "source": [
    "#### (b) Search for good hyperparameter values for the DecisionTreeClassifier: make a choice on the hyperparameters you might tune and provide comments on your choice. Specify which hyperparameter might require a tuning procedure, and which is the effect of the tuning procedure on the final model.\n",
    "\n"
   ]
  },
  {
   "attachments": {},
   "cell_type": "markdown",
   "metadata": {},
   "source": [
    "#### (c) Evaluate the trained model on the provided test set. Verify that the trained model is not overfitting. Discuss the obtained results."
   ]
  },
  {
   "attachments": {},
   "cell_type": "markdown",
   "metadata": {},
   "source": [
    "## 4. Train a Random Forest model able to predict the Gormiti_Land class.\n"
   ]
  },
  {
   "attachments": {},
   "cell_type": "markdown",
   "metadata": {},
   "source": [
    "#### (a) Perform features pre-processing if necessary. Discuss your choices and the performed actions.\n"
   ]
  },
  {
   "attachments": {},
   "cell_type": "markdown",
   "metadata": {},
   "source": [
    "#### (b) Search for good hyperparameter values for the RandomForestClassifier: make a choice on the hyperparameters you might tune and provide comments on your choice. Specify which hyper-parameter might require a tuning procedure (comment the hyperparameters related to the ensemble only, since the ones related to the DecisionTree have been discussed above).\n"
   ]
  },
  {
   "attachments": {},
   "cell_type": "markdown",
   "metadata": {},
   "source": [
    "#### (c) Which are the 2 most important features for the trained model?\n"
   ]
  },
  {
   "attachments": {},
   "cell_type": "markdown",
   "metadata": {},
   "source": [
    "#### (d) Provide an out-of-bag evaluation of the trained model.\n"
   ]
  },
  {
   "attachments": {},
   "cell_type": "markdown",
   "metadata": {},
   "source": [
    "#### (e) Evaluate the trained model on the provided test set. Verify that the trained model is not overfitting. Discuss the obtained results.\n"
   ]
  },
  {
   "attachments": {},
   "cell_type": "markdown",
   "metadata": {},
   "source": [
    "## 5. Train an AdaBoost model able to predict the Gormiti_Land class.\n"
   ]
  },
  {
   "attachments": {},
   "cell_type": "markdown",
   "metadata": {},
   "source": [
    "#### (a) Perform features pre-processing if necessary. Discuss your choices and the performed actions.\n"
   ]
  },
  {
   "attachments": {},
   "cell_type": "markdown",
   "metadata": {},
   "source": [
    "#### (b) Search for good hyperparameter values for the AdaBoostClassifier: make a choice on the hyperparameters you might tune and provide comments on your choice. Specify which hyper-parameter might require a tuning procedure.\n"
   ]
  },
  {
   "attachments": {},
   "cell_type": "markdown",
   "metadata": {},
   "source": [
    "#### (c) Evaluate the trained model on the provided test set. Verify that the trained model is not overfitting. Discuss the obtained results.\n"
   ]
  },
  {
   "attachments": {},
   "cell_type": "markdown",
   "metadata": {},
   "source": [
    "## 6. Train a Soft Voting Classifier model able to predict the Gormiti_Land class.\n"
   ]
  },
  {
   "attachments": {},
   "cell_type": "markdown",
   "metadata": {},
   "source": [
    "#### (a) Combine the models trained above into an ensemble, using a soft voting classifier. Select the models which allow soft voting and comment on this choice. Eventually include other models (trained with different algorithms) to the ensemble.\n"
   ]
  },
  {
   "attachments": {},
   "cell_type": "markdown",
   "metadata": {},
   "source": [
    "#### (b) Evaluate the trained model on the provided test set. Discuss the obtained results.\n"
   ]
  },
  {
   "attachments": {},
   "cell_type": "markdown",
   "metadata": {},
   "source": [
    "#### (c) How much better does the voting classifier perform compared to the individual classifiers?\n"
   ]
  },
  {
   "attachments": {},
   "cell_type": "markdown",
   "metadata": {},
   "source": [
    "## 7. Train a Blender classifier able to predict the Gormiti_Land class.\n"
   ]
  },
  {
   "attachments": {},
   "cell_type": "markdown",
   "metadata": {},
   "source": [
    "#### (a) Exploit the predictions performed by a set of models: a Softmax Regression model, a Decision Tree model, a Random Forest model and an AdaBoost model. Use the best hyperparameters values identified above for all the exploited models.\n"
   ]
  },
  {
   "attachments": {},
   "cell_type": "markdown",
   "metadata": {},
   "source": [
    "#### (b) Evaluate the trained stacking ensemble model on the provided test set. Discuss the obtained results.\n"
   ]
  },
  {
   "attachments": {},
   "cell_type": "markdown",
   "metadata": {},
   "source": [
    "## 8. Compare the performances of the previously trained classifiers and ensemble models evaluating them on the provided test set."
   ]
  }
 ],
 "metadata": {
  "kernelspec": {
   "display_name": "Python 3",
   "language": "python",
   "name": "python3"
  },
  "language_info": {
   "codemirror_mode": {
    "name": "ipython",
    "version": 3
   },
   "file_extension": ".py",
   "mimetype": "text/x-python",
   "name": "python",
   "nbconvert_exporter": "python",
   "pygments_lexer": "ipython3",
   "version": "3.11.1"
  },
  "orig_nbformat": 4,
  "vscode": {
   "interpreter": {
    "hash": "da62364f2aeeda6bf1f7be7688483efab1e0fd26856506623283a070b9c36b93"
   }
  }
 },
 "nbformat": 4,
 "nbformat_minor": 2
}
